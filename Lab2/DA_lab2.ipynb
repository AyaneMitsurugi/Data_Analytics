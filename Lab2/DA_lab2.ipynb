{
 "cells": [
  {
   "cell_type": "code",
   "execution_count": 229,
   "metadata": {},
   "outputs": [],
   "source": [
    "# LABS 2\n",
    "# Probabilistic Building Blocks\n",
    "\n",
    "# Python dictonary dict = {'key':value, ...}\n",
    "# pd.DataFrame(dict)\n",
    "\n",
    "# 1e4 is a double! =>\n",
    "# np.int(1e4) = 10 000"
   ]
  },
  {
   "cell_type": "code",
   "execution_count": 230,
   "metadata": {},
   "outputs": [],
   "source": [
    "# --------------------------------------------------------------------------------------------------------------------------------------------------------------------------------------\n",
    "# --------------------------------------------------------------------------------------------------------------------------------------------------------------------------------------\n",
    "# --------------------------------------------------------------------------------------------------------------------------------------------------------------------------------------"
   ]
  },
  {
   "cell_type": "code",
   "execution_count": 272,
   "metadata": {},
   "outputs": [
    {
     "name": "stdout",
     "output_type": "stream",
     "text": [
      "[[ 1.11028762  0.93385764  1.51555446  0.26173811]\n",
      " [ 0.05150983 -0.35548507  0.45669825  0.91251569]\n",
      " [-0.4246491  -1.20101861  0.25706134 -1.13269761]\n",
      " ...\n",
      " [-0.81358626  0.45837022  0.4684751   1.48987814]\n",
      " [-0.3287801  -0.37527934 -0.23572698  0.3326262 ]\n",
      " [ 0.75841553  1.11971979  0.98859604 -1.27626768]]\n"
     ]
    }
   ],
   "source": [
    "# Create random dataset\n",
    "import numpy as np\n",
    "\n",
    "mu = 0.3\n",
    "sigma = 1\n",
    "rows_size = 10000\n",
    "cols_size = 4\n",
    "size = [rows_size, cols_size]\n",
    "\n",
    "data_normal = np.random.normal(mu, sigma, size)\n",
    "print(data_normal)"
   ]
  },
  {
   "cell_type": "code",
   "execution_count": 232,
   "metadata": {},
   "outputs": [
    {
     "data": {
      "text/plain": [
       "(10000, 4)"
      ]
     },
     "execution_count": 232,
     "metadata": {},
     "output_type": "execute_result"
    }
   ],
   "source": [
    "data_normal.shape"
   ]
  },
  {
   "cell_type": "code",
   "execution_count": 252,
   "metadata": {},
   "outputs": [
    {
     "name": "stdout",
     "output_type": "stream",
     "text": [
      "[1.86913919 0.04125309 1.07548495 ... 0.04819489 3.32367537 1.05718362]\n",
      "[-1.24115236  1.02142993  0.95063082 ... -0.9657994   2.54277382\n",
      "  0.40716147]\n",
      "[ 1.14448588  1.0773425  -0.17277544 ... -0.16445332  0.99799782\n",
      "  0.44088166]\n",
      "[ 1.10807578  0.26067189 -0.94671048 ...  0.25553136  0.38195017\n",
      "  0.28547489]\n"
     ]
    }
   ],
   "source": [
    "# Data in each col:\n",
    "first_col = data_normal[:,0]\n",
    "second_col = data_normal[:,1]\n",
    "third_col = data_normal[:,2]\n",
    "fourth_col = data_normal[:,3]\n",
    "\n",
    "print(first_col)\n",
    "print(second_col)\n",
    "print(third_col)\n",
    "print(fourth_col)"
   ]
  },
  {
   "cell_type": "code",
   "execution_count": 253,
   "metadata": {},
   "outputs": [
    {
     "name": "stdout",
     "output_type": "stream",
     "text": [
      "{'Time': array([1.86913919, 0.04125309, 1.07548495, ..., 0.04819489, 3.32367537,\n",
      "       1.05718362]), 'Height': array([-1.24115236,  1.02142993,  0.95063082, ..., -0.9657994 ,\n",
      "        2.54277382,  0.40716147]), 'Temperature': array([ 1.14448588,  1.0773425 , -0.17277544, ..., -0.16445332,\n",
      "        0.99799782,  0.44088166]), 'Length': array([ 1.10807578,  0.26067189, -0.94671048, ...,  0.25553136,\n",
      "        0.38195017,  0.28547489])}\n"
     ]
    }
   ],
   "source": [
    "dictionary = {'Time': first_col, \n",
    "        'Height': second_col, \n",
    "        'Temperature': third_col,\n",
    "        'Length' : fourth_col}\n",
    "print(dictionary)"
   ]
  },
  {
   "cell_type": "code",
   "execution_count": 254,
   "metadata": {},
   "outputs": [
    {
     "name": "stdout",
     "output_type": "stream",
     "text": [
      "          Time    Height  Temperature    Length\n",
      "0     1.869139 -1.241152     1.144486  1.108076\n",
      "1     0.041253  1.021430     1.077342  0.260672\n",
      "2     1.075485  0.950631    -0.172775 -0.946710\n",
      "3    -0.588268  1.014788     0.274886  0.669496\n",
      "4    -1.095797 -0.224056     0.393341  0.893093\n",
      "...        ...       ...          ...       ...\n",
      "9995  0.203808 -0.668089     0.100905  0.746100\n",
      "9996 -1.056833  1.675100     2.291382  1.098890\n",
      "9997  0.048195 -0.965799    -0.164453  0.255531\n",
      "9998  3.323675  2.542774     0.997998  0.381950\n",
      "9999  1.057184  0.407161     0.440882  0.285475\n",
      "\n",
      "[10000 rows x 4 columns]\n"
     ]
    }
   ],
   "source": [
    "import pandas as pd \n",
    "\n",
    "# Convert the dictionary into DataFrame\n",
    "df = pd.DataFrame(dictionary, columns=['Time', 'Height', 'Temperature', 'Length'])\n",
    "print(df) # [10000 rows x 4 columns]"
   ]
  },
  {
   "cell_type": "code",
   "execution_count": 255,
   "metadata": {},
   "outputs": [
    {
     "data": {
      "text/plain": [
       "Index(['Time', 'Height', 'Temperature', 'Length'], dtype='object')"
      ]
     },
     "execution_count": 255,
     "metadata": {},
     "output_type": "execute_result"
    }
   ],
   "source": [
    "df.columns"
   ]
  },
  {
   "cell_type": "code",
   "execution_count": 256,
   "metadata": {},
   "outputs": [],
   "source": [
    "# Part 1 - Sampling in Python and visualising samples\n",
    "\n",
    "# --------------------------------------------------------------------------------------------------------------------------------------------------------------------------------------\n",
    "# NORMAL DISTRIBUTION\n",
    "# --------------------------------------------------------------------------------------------------------------------------------------------------------------------------------------\n",
    "\n",
    "# Using histograms with and without cumulative option observe how increasing variance and mean changes look of the distribution.\n",
    "# Check how number of bins influences the plots.\n",
    "# Consider what would make normal distribution weekly informative and what will make it informative.\n",
    "\n",
    "# Melting Data Frame\n",
    "df_melt = pd.melt(df, value_vars=['Height', 'Temperature', 'Length'])"
   ]
  },
  {
   "cell_type": "code",
   "execution_count": 257,
   "metadata": {},
   "outputs": [
    {
     "name": "stdout",
     "output_type": "stream",
     "text": [
      "      variable     value\n",
      "0       Height -1.241152\n",
      "1       Height  1.021430\n",
      "2       Height  0.950631\n",
      "3       Height  1.014788\n",
      "4       Height -0.224056\n",
      "...        ...       ...\n",
      "29995   Length  0.746100\n",
      "29996   Length  1.098890\n",
      "29997   Length  0.255531\n",
      "29998   Length  0.381950\n",
      "29999   Length  0.285475\n",
      "\n",
      "[30000 rows x 2 columns]\n"
     ]
    }
   ],
   "source": [
    "print(df_melt)"
   ]
  },
  {
   "cell_type": "code",
   "execution_count": 258,
   "metadata": {},
   "outputs": [
    {
     "data": {
      "text/plain": [
       "Index(['variable', 'value'], dtype='object')"
      ]
     },
     "execution_count": 258,
     "metadata": {},
     "output_type": "execute_result"
    }
   ],
   "source": [
    "df_melt.columns"
   ]
  },
  {
   "cell_type": "code",
   "execution_count": 259,
   "metadata": {},
   "outputs": [
    {
     "name": "stdout",
     "output_type": "stream",
     "text": [
      "0        Height\n",
      "1        Height\n",
      "2        Height\n",
      "3        Height\n",
      "4        Height\n",
      "          ...  \n",
      "29995    Length\n",
      "29996    Length\n",
      "29997    Length\n",
      "29998    Length\n",
      "29999    Length\n",
      "Name: variable, Length: 30000, dtype: object\n"
     ]
    }
   ],
   "source": [
    "variable = df_melt.variable\n",
    "print(variable)"
   ]
  },
  {
   "cell_type": "code",
   "execution_count": 260,
   "metadata": {},
   "outputs": [
    {
     "name": "stdout",
     "output_type": "stream",
     "text": [
      "0       -1.241152\n",
      "1        1.021430\n",
      "2        0.950631\n",
      "3        1.014788\n",
      "4       -0.224056\n",
      "           ...   \n",
      "29995    0.746100\n",
      "29996    1.098890\n",
      "29997    0.255531\n",
      "29998    0.381950\n",
      "29999    0.285475\n",
      "Name: value, Length: 30000, dtype: float64\n"
     ]
    }
   ],
   "source": [
    "value = df_melt.value\n",
    "print(value)"
   ]
  },
  {
   "cell_type": "code",
   "execution_count": 261,
   "metadata": {},
   "outputs": [
    {
     "data": {
      "text/plain": [
       "<seaborn.axisgrid.FacetGrid at 0x7fbfce955a90>"
      ]
     },
     "execution_count": 261,
     "metadata": {},
     "output_type": "execute_result"
    },
    {
     "data": {
      "image/png": "[encoded data removed]",
      "text/plain": [
       "<Figure size 648x216 with 3 Axes>"
      ]
     },
     "metadata": {
      "needs_background": "light"
     },
     "output_type": "display_data"
    }
   ],
   "source": [
    "import seaborn as sns\n",
    "import numpy as np\n",
    "import matplotlib.pyplot as plt\n",
    "\n",
    "# WITHOUT CUMMULATIVE\n",
    "grid = sns.FacetGrid(data=df_melt,col='variable',col_wrap=3)\n",
    "grid.map(plt.hist, \"value\", color=\"steelblue\", cumulative = False)"
   ]
  },
  {
   "cell_type": "code",
   "execution_count": 262,
   "metadata": {},
   "outputs": [
    {
     "data": {
      "text/plain": [
       "<seaborn.axisgrid.FacetGrid at 0x7fbfce7c52d0>"
      ]
     },
     "execution_count": 262,
     "metadata": {},
     "output_type": "execute_result"
    },
    {
     "data": {
      "image/png": "[encoded data removed]",
      "text/plain": [
       "<Figure size 648x216 with 3 Axes>"
      ]
     },
     "metadata": {
      "needs_background": "light"
     },
     "output_type": "display_data"
    }
   ],
   "source": [
    "# WITH CUMMULATIVE\n",
    "grid = sns.FacetGrid(data=df_melt,col='variable',col_wrap=3)\n",
    "grid.map(plt.hist, \"value\", color=\"steelblue\", cumulative = True)"
   ]
  },
  {
   "cell_type": "code",
   "execution_count": 263,
   "metadata": {},
   "outputs": [
    {
     "data": {
      "text/plain": [
       "<seaborn.axisgrid.FacetGrid at 0x7fbfce712490>"
      ]
     },
     "execution_count": 263,
     "metadata": {},
     "output_type": "execute_result"
    },
    {
     "data": {
      "image/png": "[encoded data removed]",
      "text/plain": [
       "<Figure size 648x216 with 3 Axes>"
      ]
     },
     "metadata": {
      "needs_background": "light"
     },
     "output_type": "display_data"
    }
   ],
   "source": [
    "# RANDOM BINS VALUE\n",
    "grid = sns.FacetGrid(data=df_melt,col='variable',col_wrap=3)\n",
    "grid.map(plt.hist, \"value\", color=\"steelblue\", bins=3)"
   ]
  },
  {
   "cell_type": "code",
   "execution_count": 264,
   "metadata": {},
   "outputs": [
    {
     "data": {
      "text/plain": [
       "<seaborn.axisgrid.FacetGrid at 0x7fbfce54a190>"
      ]
     },
     "execution_count": 264,
     "metadata": {},
     "output_type": "execute_result"
    },
    {
     "data": {
      "image/png": "[encoded data removed]",
      "text/plain": [
       "<Figure size 648x216 with 3 Axes>"
      ]
     },
     "metadata": {
      "needs_background": "light"
     },
     "output_type": "display_data"
    }
   ],
   "source": [
    "grid = sns.FacetGrid(data=df_melt,col='variable',col_wrap=3)\n",
    "grid.map(plt.hist, \"value\", color=\"steelblue\", bins=5)"
   ]
  },
  {
   "cell_type": "code",
   "execution_count": 265,
   "metadata": {},
   "outputs": [
    {
     "data": {
      "text/plain": [
       "<seaborn.axisgrid.FacetGrid at 0x7fbfce437f90>"
      ]
     },
     "execution_count": 265,
     "metadata": {},
     "output_type": "execute_result"
    },
    {
     "data": {
      "image/png": "[encoded data removed]",
      "text/plain": [
       "<Figure size 648x216 with 3 Axes>"
      ]
     },
     "metadata": {
      "needs_background": "light"
     },
     "output_type": "display_data"
    }
   ],
   "source": [
    "grid = sns.FacetGrid(data=df_melt,col='variable',col_wrap=3)\n",
    "grid.map(plt.hist, \"value\", color=\"steelblue\", bins=7)"
   ]
  },
  {
   "cell_type": "code",
   "execution_count": 266,
   "metadata": {},
   "outputs": [
    {
     "data": {
      "text/plain": [
       "<seaborn.axisgrid.FacetGrid at 0x7fbfce3612d0>"
      ]
     },
     "execution_count": 266,
     "metadata": {},
     "output_type": "execute_result"
    },
    {
     "data": {
      "image/png": "[encoded data removed]",
      "text/plain": [
       "<Figure size 648x216 with 3 Axes>"
      ]
     },
     "metadata": {
      "needs_background": "light"
     },
     "output_type": "display_data"
    }
   ],
   "source": [
    "grid = sns.FacetGrid(data=df_melt,col='variable',col_wrap=3)\n",
    "grid.map(plt.hist, \"value\", color=\"steelblue\", bins=9)"
   ]
  },
  {
   "cell_type": "code",
   "execution_count": 267,
   "metadata": {},
   "outputs": [
    {
     "data": {
      "text/plain": [
       "<seaborn.axisgrid.FacetGrid at 0x7fbfce1e3ad0>"
      ]
     },
     "execution_count": 267,
     "metadata": {},
     "output_type": "execute_result"
    },
    {
     "data": {
      "image/png": "[encoded data removed]",
      "text/plain": [
       "<Figure size 648x216 with 3 Axes>"
      ]
     },
     "metadata": {
      "needs_background": "light"
     },
     "output_type": "display_data"
    }
   ],
   "source": [
    "grid = sns.FacetGrid(data=df_melt,col='variable',col_wrap=3)\n",
    "grid.map(plt.hist, \"value\", color=\"steelblue\", bins=11)"
   ]
  },
  {
   "cell_type": "code",
   "execution_count": 268,
   "metadata": {},
   "outputs": [
    {
     "data": {
      "text/plain": [
       "<seaborn.axisgrid.FacetGrid at 0x7fbfce0a74d0>"
      ]
     },
     "execution_count": 268,
     "metadata": {},
     "output_type": "execute_result"
    },
    {
     "data": {
      "image/png": "[encoded data removed]",
      "text/plain": [
       "<Figure size 648x216 with 3 Axes>"
      ]
     },
     "metadata": {
      "needs_background": "light"
     },
     "output_type": "display_data"
    }
   ],
   "source": [
    "grid = sns.FacetGrid(data=df_melt,col='variable',col_wrap=3)\n",
    "grid.map(plt.hist, \"value\", color=\"steelblue\", bins=13)"
   ]
  },
  {
   "cell_type": "code",
   "execution_count": 269,
   "metadata": {},
   "outputs": [
    {
     "data": {
      "text/plain": [
       "<seaborn.axisgrid.FacetGrid at 0x7fbfcdec0d90>"
      ]
     },
     "execution_count": 269,
     "metadata": {},
     "output_type": "execute_result"
    },
    {
     "data": {
      "image/png": "[encoded data removed]",
      "text/plain": [
       "<Figure size 648x216 with 3 Axes>"
      ]
     },
     "metadata": {
      "needs_background": "light"
     },
     "output_type": "display_data"
    }
   ],
   "source": [
    "grid = sns.FacetGrid(data=df_melt,col='variable',col_wrap=3)\n",
    "grid.map(plt.hist, \"value\", color=\"steelblue\", bins=15)"
   ]
  },
  {
   "cell_type": "code",
   "execution_count": 271,
   "metadata": {},
   "outputs": [
    {
     "name": "stdout",
     "output_type": "stream",
     "text": [
      "          Time    Height  Temperature    Length\n",
      "0          NaN       NaN          NaN       NaN\n",
      "1     0.041253       NaN          NaN  0.260672\n",
      "2          NaN  0.950631          NaN       NaN\n",
      "3          NaN       NaN     0.274886  0.669496\n",
      "4          NaN       NaN     0.393341  0.893093\n",
      "...        ...       ...          ...       ...\n",
      "9995  0.203808       NaN     0.100905  0.746100\n",
      "9996       NaN       NaN          NaN       NaN\n",
      "9997  0.048195       NaN          NaN  0.255531\n",
      "9998       NaN       NaN     0.997998  0.381950\n",
      "9999       NaN  0.407161     0.440882  0.285475\n",
      "\n",
      "[10000 rows x 4 columns]\n"
     ]
    }
   ],
   "source": [
    "# -------------------------------------------------------------------------------------------------------------------------------------------------------------------------------------\n",
    "# NORMAL DISTRIBUTION (with inverse logit)\n",
    "# -------------------------------------------------------------------------------------------------------------------------------------------------------------------------------------\n",
    "\n",
    "# Transform samples from normal distribution with inverse logit.\n",
    "# Consider how mean and standard deviation influence the shape of histogram and cdf.\n",
    "# Is previously non-informative normal is still non-informative after transformation?\n",
    "\n",
    "from scipy.special import logit, expit\n",
    "\n",
    "inverse_logic = expit(logit(df))\n",
    "print(inverse_logic) # [10000 rows x 4 columns]"
   ]
  },
  {
   "cell_type": "code",
   "execution_count": 279,
   "metadata": {},
   "outputs": [
    {
     "name": "stdout",
     "output_type": "stream",
     "text": [
      "[[4 5 6 6]\n",
      " [6 3 5 6]\n",
      " [3 3 5 4]\n",
      " ...\n",
      " [2 6 7 8]\n",
      " [7 6 5 2]\n",
      " [3 6 7 3]]\n"
     ]
    }
   ],
   "source": [
    "# ----------------------------------------------------------------------------------------------------------------------------------------------------------\n",
    "# POISSON DISTRIBUTIO\n",
    "# ----------------------------------------------------------------------------------------------------------------------------------------------------------\n",
    "\n",
    "# Poisson distribution.\n",
    "# This distribution returns integers (give histogram location of bins instead of their numbers), depending on intensity.\n",
    "# This is a good distribution for modelling countable effects.\n",
    "# Observe how mean and variance influence the shape.\n",
    "\n",
    "lam = 5\n",
    "rows_size = 10000\n",
    "cols_size = 4\n",
    "size = [rows_size, cols_size]\n",
    "\n",
    "data_poisson = np.random.poisson(lam, size)\n",
    "print(data_poisson)"
   ]
  },
  {
   "cell_type": "code",
   "execution_count": 288,
   "metadata": {},
   "outputs": [],
   "source": [
    "# Data in each col:\n",
    "first_col = data_poisson[:,0]\n",
    "second_col = data_poisson[:,1]\n",
    "third_col = data_poisson[:,2]\n",
    "fourth_col = data_poisson[:,3]"
   ]
  },
  {
   "cell_type": "code",
   "execution_count": 296,
   "metadata": {},
   "outputs": [],
   "source": [
    "dictionary = {'Time': first_col, \n",
    "        'Height': second_col, \n",
    "        'Temperature': third_col,\n",
    "        'Length' : fourth_col}"
   ]
  },
  {
   "cell_type": "code",
   "execution_count": 290,
   "metadata": {},
   "outputs": [],
   "source": [
    "# Convert the dictionary into DataFrame\n",
    "df = pd.DataFrame(dictionary, columns=['Time', 'Height', 'Temperature', 'Length'])"
   ]
  },
  {
   "cell_type": "code",
   "execution_count": 291,
   "metadata": {},
   "outputs": [],
   "source": [
    "# Melting Data Frame\n",
    "df_melt = pd.melt(df, value_vars=['Height', 'Temperature', 'Length'])\n",
    "variable = df_melt.variable\n",
    "value = df_melt.value"
   ]
  },
  {
   "cell_type": "code",
   "execution_count": 308,
   "metadata": {},
   "outputs": [
    {
     "data": {
      "text/plain": [
       "<seaborn.axisgrid.FacetGrid at 0x7fbfcc562f50>"
      ]
     },
     "execution_count": 308,
     "metadata": {},
     "output_type": "execute_result"
    },
    {
     "data": {
      "image/png": "[encoded data removed]",
      "text/plain": [
       "<Figure size 648x216 with 3 Axes>"
      ]
     },
     "metadata": {
      "needs_background": "light"
     },
     "output_type": "display_data"
    }
   ],
   "source": [
    "grid = sns.FacetGrid(data=df_melt,col='variable',col_wrap=3)\n",
    "grid.map(plt.hist, \"value\", color=\"steelblue\", bins=[1, 4, 7, 10, 12]) #location of bins (instead of their numbers)"
   ]
  },
  {
   "cell_type": "code",
   "execution_count": 8,
   "metadata": {},
   "outputs": [],
   "source": [
    "# ----------------------------------------------------------------------------------------------------------------------------------------------------------\n",
    "# BETA DISTRIBUTION\n",
    "# ----------------------------------------------------------------------------------------------------------------------------------------------------------\n",
    "\n",
    "# Beta distribution.\n",
    "# This is a distribution defined on [0,1] interval.\n",
    "# It is useful as a prior for probability parameters (like binomial distribution).\n",
    "# Traditionally it is defined with $\\alpha$ and $\\beta$ parameters.\n",
    "# There are however different reparametrizations possible.\n",
    "# Verify how beta distributions behave for their natural parametrization,\n",
    "# location dispersion parametrization and mean-population size parametrization (see lecture notes)"
   ]
  },
  {
   "cell_type": "code",
   "execution_count": 9,
   "metadata": {},
   "outputs": [],
   "source": [
    "# ----------------------------------------------------------------------------------------------------------------------------------------------------------\n",
    "# LOG-NORMAL DISTRIBUTION\n",
    "# ----------------------------------------------------------------------------------------------------------------------------------------------------------\n",
    "\n",
    "# Log-normal distribution. This is a great distributions for positive variables, especially if scale can differ (for example salaries).\n",
    "# Assumtion is that the logarithm of variable of interest is normaly distributed.\n",
    "# Observe how mean and variance of normal distribution are propagating through transformation."
   ]
  },
  {
   "cell_type": "code",
   "execution_count": 309,
   "metadata": {},
   "outputs": [],
   "source": [
    "# ----------------------------------------------------------------------------------------------------------------------------------------------------------\n",
    "# ----------------------------------------------------------------------------------------------------------------------------------------------------------\n",
    "# ----------------------------------------------------------------------------------------------------------------------------------------------------------"
   ]
  },
  {
   "cell_type": "code",
   "execution_count": 11,
   "metadata": {},
   "outputs": [],
   "source": [
    "# Part 2 - Sampling in Stan"
   ]
  },
  {
   "cell_type": "code",
   "execution_count": null,
   "metadata": {},
   "outputs": [],
   "source": []
  }
 ],
 "metadata": {
  "kernelspec": {
   "display_name": "Python 3",
   "language": "python",
   "name": "python3"
  },
  "language_info": {
   "codemirror_mode": {
    "name": "ipython",
    "version": 3
   },
   "file_extension": ".py",
   "mimetype": "text/x-python",
   "name": "python",
   "nbconvert_exporter": "python",
   "pygments_lexer": "ipython3",
   "version": "3.7.4"
  }
 },
 "nbformat": 4,
 "nbformat_minor": 4
}
